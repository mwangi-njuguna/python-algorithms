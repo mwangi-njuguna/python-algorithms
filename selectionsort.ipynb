{
 "cells": [
  {
   "cell_type": "code",
   "execution_count": 22,
   "metadata": {},
   "outputs": [
    {
     "name": "stdout",
     "output_type": "stream",
     "text": [
      "Algorithm ok\n"
     ]
    }
   ],
   "source": [
    "def selection_sort(sequence):\n",
    "    try:\n",
    "        for i in range(len(sequence)-1, 0, -1):\n",
    "            max_index = i\n",
    "            for j in range(max_index):\n",
    "                if sequence[j]>sequence[max_index]:\n",
    "                    max_index = j\n",
    "            sequence[i], sequence[max_index] = sequence[max_index], sequence[i] #check evaluation order\n",
    "        return sequence\n",
    "\n",
    "    except TypeError:\n",
    "        print(\"Sequence not iterable\")\n",
    "\n",
    "def test_selection_sort():\n",
    "    my_seq = [3, 5, 2, 6, 8, 1, 0, 3, 5, 6, 2, 5, 4, 1, 5, 3]\n",
    "    assert(selection_sort(my_seq)==sorted(my_seq))\n",
    "    print(\"Algorithm ok\")\n",
    "    \n",
    "if __name__=='__main__':\n",
    "    test_selection_sort()"
   ]
  },
  {
   "cell_type": "code",
   "execution_count": null,
   "metadata": {},
   "outputs": [],
   "source": []
  }
 ],
 "metadata": {
  "kernelspec": {
   "display_name": "Python 3",
   "language": "python",
   "name": "python3"
  },
  "language_info": {
   "codemirror_mode": {
    "name": "ipython",
    "version": 3
   },
   "file_extension": ".py",
   "mimetype": "text/x-python",
   "name": "python",
   "nbconvert_exporter": "python",
   "pygments_lexer": "ipython3",
   "version": "3.6.4"
  }
 },
 "nbformat": 4,
 "nbformat_minor": 2
}
