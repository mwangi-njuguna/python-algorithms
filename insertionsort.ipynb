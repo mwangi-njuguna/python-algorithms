{
 "cells": [
  {
   "cell_type": "code",
   "execution_count": 29,
   "metadata": {},
   "outputs": [
    {
     "name": "stdout",
     "output_type": "stream",
     "text": [
      "Tests passed\n"
     ]
    }
   ],
   "source": [
    "def insertion_sort(sequence):\n",
    "#     use try except to ensure the sequence is iterable\n",
    "    try:\n",
    "        for i in range(1, len(sequence)):\n",
    "            j = i\n",
    "            while j>0 and sequence[j-1]>sequence[j]:\n",
    "                sequence[j-1], sequence[j]=sequence[j],sequence[j-1]\n",
    "                j-=1\n",
    "        return sequence\n",
    "    \n",
    "    except TypeError as err:\n",
    "        print(\"The sequence is not iterable\")\n",
    "\n",
    "\n",
    "def test_insertion_sort():\n",
    "#     Test to assert that the algorithm works\n",
    "\n",
    "    my_seq = [3, 5, 2, 6, 8, 1, 0, 3, 5, 6, 2, 5, 4, 1, 5, 3]\n",
    "    assert(insertion_sort(my_seq)==sorted(my_seq))\n",
    "    print(\"Tests passed\")\n",
    "    \n",
    "if __name__=='__main__':\n",
    "    test_insertion_sort()"
   ]
  },
  {
   "cell_type": "code",
   "execution_count": null,
   "metadata": {},
   "outputs": [],
   "source": []
  },
  {
   "cell_type": "code",
   "execution_count": null,
   "metadata": {},
   "outputs": [],
   "source": []
  },
  {
   "cell_type": "code",
   "execution_count": null,
   "metadata": {},
   "outputs": [],
   "source": []
  }
 ],
 "metadata": {
  "kernelspec": {
   "display_name": "Python 3",
   "language": "python",
   "name": "python3"
  },
  "language_info": {
   "codemirror_mode": {
    "name": "ipython",
    "version": 3
   },
   "file_extension": ".py",
   "mimetype": "text/x-python",
   "name": "python",
   "nbconvert_exporter": "python",
   "pygments_lexer": "ipython3",
   "version": "3.6.4"
  }
 },
 "nbformat": 4,
 "nbformat_minor": 2
}
